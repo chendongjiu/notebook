{
 "cells": [
  {
   "cell_type": "code",
   "execution_count": 1,
   "metadata": {},
   "outputs": [
    {
     "ename": "SyntaxError",
     "evalue": "invalid syntax (<ipython-input-1-1dde9f94fc01>, line 3)",
     "output_type": "error",
     "traceback": [
      "\u001b[0;36m  File \u001b[0;32m\"<ipython-input-1-1dde9f94fc01>\"\u001b[0;36m, line \u001b[0;32m3\u001b[0m\n\u001b[0;31m    variable=\"\"\u001b[0m\n\u001b[0m           ^\u001b[0m\n\u001b[0;31mSyntaxError\u001b[0m\u001b[0;31m:\u001b[0m invalid syntax\n"
     ]
    }
   ],
   "source": [
    "params = dict(\n",
    "dataframe=\"\"\n",
    "variable=\"\"\n",
    "label=\"\"\n",
    "no_default=\n",
    "default=\n",
    "bins=\n",
    ")"
   ]
  },
  {
   "cell_type": "code",
   "execution_count": 2,
   "metadata": {},
   "outputs": [
    {
     "ename": "SyntaxError",
     "evalue": "invalid syntax (<ipython-input-2-643b1f7c533a>, line 3)",
     "output_type": "error",
     "traceback": [
      "\u001b[0;36m  File \u001b[0;32m\"<ipython-input-2-643b1f7c533a>\"\u001b[0;36m, line \u001b[0;32m3\u001b[0m\n\u001b[0;31m    variable=\"qwe\"\u001b[0m\n\u001b[0m           ^\u001b[0m\n\u001b[0;31mSyntaxError\u001b[0m\u001b[0;31m:\u001b[0m invalid syntax\n"
     ]
    }
   ],
   "source": [
    "params = dict(\n",
    "dataframe=\"qwe\"\n",
    "variable=\"qwe\"\n",
    "label=\"qwe\"\n",
    "no_default=12\n",
    "default=23\n",
    "bins=12\n",
    ")"
   ]
  },
  {
   "cell_type": "code",
   "execution_count": null,
   "metadata": {},
   "outputs": [],
   "source": [
    "params = dict(\n",
    "dataframe=\"213\"\n",
    "variable=\"123\"\n",
    "label=\"123\"\n",
    "no_default=123\n",
    "default=123\n",
    "bins=123\n",
    ")"
   ]
  },
  {
   "cell_type": "code",
   "execution_count": null,
   "metadata": {},
   "outputs": [],
   "source": [
    "params = dict(\n",
    "dataframe=\"1234\"\n",
    "variable=\"\"\n",
    "label=\"\"\n",
    "no_default=\n",
    "default=\n",
    "bins=\n",
    ")"
   ]
  },
  {
   "cell_type": "code",
   "execution_count": null,
   "metadata": {},
   "outputs": [],
   "source": [
    "params = dict(dataframe=\"124\"\n",
    "variable=\"qwe\"\n",
    "label=\"qwe\"\n",
    "no_default=3242\n",
    "default=32443\n",
    "bins=523324\n",
    ")"
   ]
  },
  {
   "cell_type": "code",
   "execution_count": null,
   "metadata": {},
   "outputs": [],
   "source": [
    "dataframe=qwe\n",
    "variable=234\n",
    "label=sfa\n",
    "no_default=234\n",
    "default=324\n",
    "bins=324\n"
   ]
  },
  {
   "cell_type": "code",
   "execution_count": null,
   "metadata": {},
   "outputs": [],
   "source": [
    "dataframe=电视收视率\n",
    "variable=tv_count\n",
    "label=trend\n",
    "no_default=2.3\n",
    "default=1.3\n",
    "bins=0.2\n"
   ]
  },
  {
   "cell_type": "code",
   "execution_count": null,
   "metadata": {},
   "outputs": [],
   "source": [
    "1234567\n",
    "qwertyuio\n",
    "asdfghjkl"
   ]
  },
  {
   "cell_type": "code",
   "execution_count": null,
   "metadata": {},
   "outputs": [],
   "source": [
    "import pandas as pd\n",
    "import numpy as np\n",
    "import matplotlib.pyplot as plt"
   ]
  },
  {
   "cell_type": "code",
   "execution_count": null,
   "metadata": {},
   "outputs": [],
   "source": [
    "params = dict(\n",
    "    a=1,\n",
    "    b=2\n",
    ")"
   ]
  },
  {
   "cell_type": "code",
   "execution_count": 2,
   "metadata": {},
   "outputs": [
    {
     "name": "stderr",
     "output_type": "stream",
     "text": [
      "d:\\pyinstall\\virset\\virpy360set\\tf\\lib\\site-packages\\IPython\\core\\interactiveshell.py:2728: DtypeWarning: Columns (1,2,6,12,13,14,15,16,17,18,19,24,25,26,27,28,29,30) have mixed types. Specify dtype option on import or set low_memory=False.\n",
      "  interactivity=interactivity, compiler=compiler, result=result)\n"
     ]
    }
   ],
   "source": [
    "df = pd.read_csv(\"./data20/1-200W.csv\")"
   ]
  },
  {
   "cell_type": "code",
   "execution_count": 3,
   "metadata": {},
   "outputs": [
    {
     "data": {
      "text/plain": [
       "Index(['Name', 'CardNo', 'Descriot', 'CtfTp', 'CtfId', 'Gender', 'Birthday',\n",
       "       'Address', 'Zip', 'Dirty', 'District1', 'District2', 'District3',\n",
       "       'District4', 'District5', 'District6', 'FirstNm', 'LastNm', 'Duty',\n",
       "       'Mobile', 'Tel', 'Fax', 'EMail', 'Nation', 'Taste', 'Education',\n",
       "       'Company', 'CTel', 'CAddress', 'CZip', 'Family', 'Version', 'id'],\n",
       "      dtype='object')"
      ]
     },
     "execution_count": 3,
     "metadata": {},
     "output_type": "execute_result"
    }
   ],
   "source": [
    "df.columns"
   ]
  },
  {
   "cell_type": "code",
   "execution_count": 4,
   "metadata": {},
   "outputs": [
    {
     "data": {
      "text/plain": [
       "RangeIndex(start=0, stop=2013840, step=1)"
      ]
     },
     "execution_count": 4,
     "metadata": {},
     "output_type": "execute_result"
    }
   ],
   "source": [
    "df.index"
   ]
  },
  {
   "cell_type": "code",
   "execution_count": null,
   "metadata": {},
   "outputs": [],
   "source": []
  }
 ],
 "metadata": {
  "kernelspec": {
   "display_name": "Python 3",
   "language": "python",
   "name": "python3"
  },
  "language_info": {
   "codemirror_mode": {
    "name": "ipython",
    "version": 3
   },
   "file_extension": ".py",
   "mimetype": "text/x-python",
   "name": "python",
   "nbconvert_exporter": "python",
   "pygments_lexer": "ipython3",
   "version": "3.5.2"
  }
 },
 "nbformat": 4,
 "nbformat_minor": 1
}
