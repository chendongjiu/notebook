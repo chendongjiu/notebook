{
 "cells": [
  {
   "cell_type": "code",
   "execution_count": 1,
   "metadata": {},
   "outputs": [
    {
     "data": {
      "text/plain": [
       "{'bins': 123,\n",
       " 'dataframe': '123123',\n",
       " 'default': 123,\n",
       " 'label': '123',\n",
       " 'no_default': 123,\n",
       " 'variable': '123'}"
      ]
     },
     "execution_count": 1,
     "metadata": {},
     "output_type": "execute_result"
    }
   ],
   "source": [
    "params = dict(\n",
    "dataframe=\"123123\",\n",
    "variable=\"123\",\n",
    "label=\"123\",\n",
    "no_default=123,\n",
    "default=123,\n",
    "bins=123\n",
    ")\n",
    "params"
   ]
  },
  {
   "cell_type": "code",
   "execution_count": null,
   "metadata": {},
   "outputs": [],
   "source": [
    "params = dict(\n",
    "dataframe=\"\",\n",
    "variable=\"\",\n",
    "label=\"\",\n",
    "no_default=,\n",
    "default=,\n",
    "bins=\n",
    ")\n",
    "params"
   ]
  },
  {
   "cell_type": "code",
   "execution_count": null,
   "metadata": {},
   "outputs": [],
   "source": [
    "\n"
   ]
  }
 ],
 "metadata": {
  "kernelspec": {
   "display_name": "Python 3",
   "language": "python",
   "name": "python3"
  },
  "language_info": {
   "codemirror_mode": {
    "name": "ipython",
    "version": 3
   },
   "file_extension": ".py",
   "mimetype": "text/x-python",
   "name": "python",
   "nbconvert_exporter": "python",
   "pygments_lexer": "ipython3",
   "version": "3.5.2"
  }
 },
 "nbformat": 4,
 "nbformat_minor": 1
}
